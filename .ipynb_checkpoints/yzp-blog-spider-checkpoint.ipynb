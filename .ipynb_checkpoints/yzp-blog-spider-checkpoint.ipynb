{
 "cells": [
  {
   "cell_type": "code",
   "execution_count": 4,
   "metadata": {},
   "outputs": [],
   "source": [
    "import requests\n",
    "from bs4 import BeautifulSoup"
   ]
  },
  {
   "cell_type": "code",
   "execution_count": 10,
   "metadata": {},
   "outputs": [
    {
     "name": "stdout",
     "output_type": "stream",
     "text": [
      "<!doctype html>\n",
      "<html lang=\"zh\" class=\"no-js\">\n",
      "  <head>\n",
      "    <meta charset=\"utf-8\">\n",
      "\n",
      "<!-- begin SEO -->\n",
      "\n",
      "\n",
      "\n",
      "\n",
      "\n",
      "\n",
      "\n",
      "\n",
      "\n",
      "<title>随笔合集 - 阳志平的网志</title>\n",
      "\n",
      "\n",
      "\n",
      "\n",
      "<meta name=\"description\" content=\"一位心智黑客\">\n",
      "\n",
      "\n",
      "\n",
      "\n",
      "<meta property=\"og:locale\" content=\"zh\">\n",
      "<meta property=\"og:site_name\" content=\"阳志平的网志\">\n",
      "<meta property=\"og:title\" content=\"随笔合集\">\n",
      "\n",
      "\n",
      "  <link rel=\"canonical\" href=\"http://www.yangzhiping.com/psy/\">\n",
      "  <meta property=\"og:url\" content=\"http://www.yangzhiping.com/psy/\">\n",
      "\n",
      "\n",
      "\n",
      "\n",
      "\n",
      "\n",
      "\n",
      "  \n",
      "\n",
      "  \n",
      "\n",
      "\n",
      "\n",
      "\n",
      "\n",
      "\n",
      "\n",
      "\n",
      "\n",
      "\n",
      "\n",
      "\n",
      "  <script type=\"\n"
     ]
    }
   ],
   "source": [
    "url = \"http://www.yangzhiping.com/psy/\"\n",
    "res = requests.get(url)\n",
    "\n",
    "bs = res.text"
   ]
  },
  {
   "cell_type": "code",
   "execution_count": null,
   "metadata": {
    "collapsed": true
   },
   "outputs": [],
   "source": []
  }
 ],
 "metadata": {
  "kernelspec": {
   "display_name": "Python 3",
   "language": "python",
   "name": "python3"
  },
  "language_info": {
   "codemirror_mode": {
    "name": "ipython",
    "version": 3
   },
   "file_extension": ".py",
   "mimetype": "text/x-python",
   "name": "python",
   "nbconvert_exporter": "python",
   "pygments_lexer": "ipython3",
   "version": "3.6.2"
  },
  "toc": {
   "nav_menu": {},
   "number_sections": true,
   "sideBar": true,
   "skip_h1_title": false,
   "toc_cell": false,
   "toc_position": {},
   "toc_section_display": "block",
   "toc_window_display": false
  }
 },
 "nbformat": 4,
 "nbformat_minor": 2
}
