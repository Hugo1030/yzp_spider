{
 "cells": [
  {
   "cell_type": "code",
   "execution_count": 14,
   "metadata": {},
   "outputs": [],
   "source": [
    "import requests\n",
    "from bs4 import BeautifulSoup\n",
    "import re"
   ]
  },
  {
   "cell_type": "code",
   "execution_count": 13,
   "metadata": {},
   "outputs": [
    {
     "name": "stdout",
     "output_type": "stream",
     "text": [
      "<Response [200]>\n"
     ]
    }
   ],
   "source": [
    "url = \"http://www.yangzhiping.com/psy/\"\n",
    "res = requests.get(url)\n",
    "print(res)"
   ]
  },
  {
   "cell_type": "code",
   "execution_count": 21,
   "metadata": {},
   "outputs": [
    {
     "name": "stdout",
     "output_type": "stream",
     "text": [
      "\n",
      "\n",
      "\n",
      "\n",
      "随笔合集 - 阳志平的网志\n",
      "\n",
      "\n",
      "\n",
      "\n",
      "\n",
      "\n",
      "\n",
      "    {\n",
      "      \"@context\" : \"http://schema.org\",\n",
      "      \"@type\" : \"Person\",\n",
      "      \"name\" : \"阳志平\",\n",
      "      \"url\" : \"http://www.yangzhiping.com\",\n",
      "      \"sameAs\" : null\n",
      "    }\n",
      "  \n",
      "\n",
      "\n",
      "\n",
      "\n",
      "\n",
      "\n",
      "\n",
      "  document.documentElement.className = document.documentElement.className.replace(/\\bno-js\\b/g, '') + ' js ';\n",
      "\n",
      "\n",
      "\n",
      "\n",
      "\n",
      "\n",
      "\n",
      "\n",
      "\n",
      "\n",
      "\n",
      "\n",
      "\n",
      "\n",
      "\n",
      "\n",
      "阳志平的网志\n",
      "随笔\n",
      "技术\n",
      "痕迹\n",
      "资源\n",
      "新读者\n",
      "工作谈\n",
      "心智专栏\n",
      "联系\n",
      "\n",
      "\n",
      "\n",
      "\n",
      "\n",
      "\n",
      "\n",
      "\n",
      "\n",
      "\n",
      "\n",
      "\n",
      "\n",
      "阳志平\n",
      "\n",
      "        我是「阳志平」，安人心智科学总监，从事认知科技产品研发与项目孵化。\n",
      "      \n",
      "\n",
      "\n",
      "关注\n",
      "\n",
      "\n",
      " 五道口，北京\n",
      "\n",
      "\n",
      "\n",
      " 网站\n",
      "          \n",
      "\n",
      "\n",
      "\n",
      "\n",
      " 电子邮箱\n",
      "          \n",
      "\n",
      "\n",
      "\n",
      " Twitter\n",
      "     \n"
     ]
    }
   ],
   "source": [
    "soup = BeautifulSoup(res.text, \"lxml\")\n",
    "print(soup.text[:500])"
   ]
  },
  {
   "cell_type": "code",
   "execution_count": null,
   "metadata": {
    "collapsed": true
   },
   "outputs": [],
   "source": []
  }
 ],
 "metadata": {
  "kernelspec": {
   "display_name": "Python 3",
   "language": "python",
   "name": "python3"
  },
  "language_info": {
   "codemirror_mode": {
    "name": "ipython",
    "version": 3
   },
   "file_extension": ".py",
   "mimetype": "text/x-python",
   "name": "python",
   "nbconvert_exporter": "python",
   "pygments_lexer": "ipython3",
   "version": "3.6.2"
  },
  "toc": {
   "nav_menu": {},
   "number_sections": true,
   "sideBar": true,
   "skip_h1_title": false,
   "toc_cell": false,
   "toc_position": {},
   "toc_section_display": "block",
   "toc_window_display": false
  }
 },
 "nbformat": 4,
 "nbformat_minor": 2
}
